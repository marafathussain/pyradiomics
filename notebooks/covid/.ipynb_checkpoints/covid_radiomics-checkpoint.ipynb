{
 "cells": [
  {
   "cell_type": "code",
   "execution_count": null,
   "metadata": {},
   "outputs": [],
   "source": [
    "from __future__ import print_function\n",
    "import six\n",
    "import os  # needed navigate the system to get the input data\n",
    "\n",
    "import radiomics\n",
    "from radiomics import featureextractor  # This module is used for interaction with pyradiomics\n",
    "import numpy as np"
   ]
  },
  {
   "cell_type": "code",
   "execution_count": null,
   "metadata": {},
   "outputs": [],
   "source": [
    "# Instantiate the extractor\n",
    "extractor = featureextractor.RadiomicsFeatureExtractor()\n",
    "\n",
    "print('Extraction parameters:\\n\\t', extractor.settings)\n",
    "print('Enabled filters:\\n\\t', extractor.enabledImagetypes)\n",
    "print('Enabled features:\\n\\t', extractor.enabledFeatures)"
   ]
  },
  {
   "cell_type": "code",
   "execution_count": null,
   "metadata": {},
   "outputs": [],
   "source": [
    "import csv\n",
    "\n",
    "filename = \"/home/marafath/scratch/Age_sex.csv\"\n",
    "rows = [] \n",
    "\n",
    "with open(filename, 'r') as csvfile: \n",
    "    # creating a csv reader object \n",
    "    csvreader = csv.reader(csvfile) \n",
    "  \n",
    "    # extracting each data row one by one \n",
    "    for row in csvreader: \n",
    "        rows.append(row) \n",
    "  \n",
    "    # get total number of rows \n",
    "    print(\"Total no. of rows: %d\"%(csvreader.line_num))"
   ]
  },
  {
   "cell_type": "code",
   "execution_count": null,
   "metadata": {},
   "outputs": [],
   "source": [
    "data_dir = '/home/marafath/scratch/iran_organized_data2'\n",
    "\n",
    "c = 0\n",
    "for patient in os.listdir(data_dir):\n",
    "    rad = []\n",
    "    f = 0\n",
    "    for pat in range(0,len(rows)):\n",
    "        if rows[pat][0] == patient:\n",
    "            if rows[pat][1] == '0':\n",
    "                age = 50\n",
    "            else:\n",
    "                age = rows[pat][1]\n",
    "                age = age[1:3]\n",
    "                age = int(age)\n",
    "            rad.append(age/100)\n",
    "            \n",
    "            if rows[pat][2] == ' ':\n",
    "                rad.append(1)\n",
    "                rad.append(0)\n",
    "            elif rows[pat][2] == 'M':\n",
    "                rad.append(1)\n",
    "                rad.append(0)\n",
    "            else:    \n",
    "                rad.append(0)\n",
    "                rad.append(1)\n",
    "    rad = np.asarray(rad,np.float64)\n",
    "    for series in os.listdir(os.path.join(data_dir,patient)):\n",
    "        if f == 0:\n",
    "            c += 1\n",
    "            f = 1\n",
    "        imagePath = os.path.join(data_dir,patient,series,'image.nii.gz')\n",
    "        maskPath = os.path.join(data_dir,patient,series,'infection.nii.gz')\n",
    "        result = extractor.execute(imagePath, maskPath)\n",
    "        \n",
    "        counter = 0\n",
    "        for key, value in six.iteritems(result):\n",
    "            counter += 1\n",
    "            if counter < 23:\n",
    "                continue\n",
    "            rad = np.append(rad, value)  \n",
    "        np.save(os.path.join(data_dir,patient,series,'radiomics'), rad) \n",
    "    \n",
    "print(c)"
   ]
  },
  {
   "cell_type": "code",
   "execution_count": null,
   "metadata": {},
   "outputs": [],
   "source": [
    "print(type(value))"
   ]
  },
  {
   "cell_type": "code",
   "execution_count": null,
   "metadata": {},
   "outputs": [],
   "source": [
    "print(value)"
   ]
  },
  {
   "cell_type": "code",
   "execution_count": null,
   "metadata": {},
   "outputs": [],
   "source": [
    "rad = np.append(rad, value)\n",
    "print(rad)"
   ]
  },
  {
   "cell_type": "code",
   "execution_count": null,
   "metadata": {},
   "outputs": [],
   "source": []
  }
 ],
 "metadata": {
  "kernelspec": {
   "display_name": "Python 3",
   "language": "python",
   "name": "python3"
  },
  "language_info": {
   "codemirror_mode": {
    "name": "ipython",
    "version": 3
   },
   "file_extension": ".py",
   "mimetype": "text/x-python",
   "name": "python",
   "nbconvert_exporter": "python",
   "pygments_lexer": "ipython3",
   "version": "3.7.4"
  }
 },
 "nbformat": 4,
 "nbformat_minor": 4
}
